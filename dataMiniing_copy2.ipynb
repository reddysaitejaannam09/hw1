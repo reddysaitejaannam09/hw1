{
 "cells": [
  {
   "cell_type": "markdown",
   "id": "10eb879b",
   "metadata": {},
   "source": [
    "## Task 1:\n",
    "#### If there is dark then it is quite risky for the an old pedestrain and also the evening peak hours are also very critical for an person to get through an accident. In rural areas there are very less traffic signs, signals and cross walks so it is good to increase these things in rural area to decrease the rate of pedestrain fatality\n",
    "\n",
    "## Task 2:\n",
    "#### *(a):* 12am to 6am is most common for pedestrains fatalities.\n",
    "#### *(b):* 6 pm and 9pm is most common for pedestrains fatalities in USA.\n",
    "#### *(c):* Poor atmospheric condition has less impact on pedestrain fatality rate.\n",
    "#### *(d):* The provided statement is correct.\n",
    "#### *(e):* Geometric countermeasure is best fit for this issue."
   ]
  },
  {
   "cell_type": "code",
   "execution_count": 2,
   "id": "25e0e994",
   "metadata": {},
   "outputs": [],
   "source": [
    "import os\n",
    "import shutil\n",
    "import numpy as np\n",
    "import pandas as pd\n",
    "import seaborn as sns\n",
    "import matplotlib.pyplot as plt\n",
    "\n",
    "from sklearn.preprocessing import StandardScaler\n",
    "from sklearn.cluster import KMeans\n",
    "from scipy.cluster.hierarchy import dendrogram\n",
    "from sklearn.cluster import AgglomerativeClustering"
   ]
  },
  {
   "cell_type": "code",
   "execution_count": 19,
   "id": "f9c75df4",
   "metadata": {},
   "outputs": [
    {
     "data": {
      "text/html": [
       "<div>\n",
       "<style scoped>\n",
       "    .dataframe tbody tr th:only-of-type {\n",
       "        vertical-align: middle;\n",
       "    }\n",
       "\n",
       "    .dataframe tbody tr th {\n",
       "        vertical-align: top;\n",
       "    }\n",
       "\n",
       "    .dataframe thead th {\n",
       "        text-align: right;\n",
       "    }\n",
       "</style>\n",
       "<table border=\"1\" class=\"dataframe\">\n",
       "  <thead>\n",
       "    <tr style=\"text-align: right;\">\n",
       "      <th></th>\n",
       "      <th>STATE_x</th>\n",
       "      <th>STATENAME_x</th>\n",
       "      <th>ST_CASE</th>\n",
       "      <th>VE_TOTAL</th>\n",
       "      <th>VE_FORMS_x</th>\n",
       "      <th>PVH_INVL</th>\n",
       "      <th>PEDS</th>\n",
       "      <th>PERSONS</th>\n",
       "      <th>PERMVIT</th>\n",
       "      <th>PERNOTMVIT</th>\n",
       "      <th>...</th>\n",
       "      <th>GVWR_FROM</th>\n",
       "      <th>GVWR_FROMNAME</th>\n",
       "      <th>GVWR_TO</th>\n",
       "      <th>GVWR_TONAME</th>\n",
       "      <th>TRLR1GVWR</th>\n",
       "      <th>TRLR1GVWRNAME</th>\n",
       "      <th>TRLR2GVWR</th>\n",
       "      <th>TRLR2GVWRNAME</th>\n",
       "      <th>TRLR3GVWR</th>\n",
       "      <th>TRLR3GVWRNAME</th>\n",
       "    </tr>\n",
       "  </thead>\n",
       "  <tbody>\n",
       "    <tr>\n",
       "      <th>0</th>\n",
       "      <td>1</td>\n",
       "      <td>Alabama</td>\n",
       "      <td>10001</td>\n",
       "      <td>1</td>\n",
       "      <td>1</td>\n",
       "      <td>0</td>\n",
       "      <td>0</td>\n",
       "      <td>4</td>\n",
       "      <td>4</td>\n",
       "      <td>0</td>\n",
       "      <td>...</td>\n",
       "      <td>11</td>\n",
       "      <td>Class 1: 6,000 lbs. or less (2,722 kg or less)</td>\n",
       "      <td>11</td>\n",
       "      <td>Class 1: 6,000 lbs. or less (2,722 kg or less)</td>\n",
       "      <td>77</td>\n",
       "      <td>No Trailing Units</td>\n",
       "      <td>77</td>\n",
       "      <td>No Trailing Units</td>\n",
       "      <td>77</td>\n",
       "      <td>No Trailing Units</td>\n",
       "    </tr>\n",
       "    <tr>\n",
       "      <th>1</th>\n",
       "      <td>1</td>\n",
       "      <td>Alabama</td>\n",
       "      <td>10001</td>\n",
       "      <td>1</td>\n",
       "      <td>1</td>\n",
       "      <td>0</td>\n",
       "      <td>0</td>\n",
       "      <td>4</td>\n",
       "      <td>4</td>\n",
       "      <td>0</td>\n",
       "      <td>...</td>\n",
       "      <td>11</td>\n",
       "      <td>Class 1: 6,000 lbs. or less (2,722 kg or less)</td>\n",
       "      <td>11</td>\n",
       "      <td>Class 1: 6,000 lbs. or less (2,722 kg or less)</td>\n",
       "      <td>77</td>\n",
       "      <td>No Trailing Units</td>\n",
       "      <td>77</td>\n",
       "      <td>No Trailing Units</td>\n",
       "      <td>77</td>\n",
       "      <td>No Trailing Units</td>\n",
       "    </tr>\n",
       "    <tr>\n",
       "      <th>2</th>\n",
       "      <td>1</td>\n",
       "      <td>Alabama</td>\n",
       "      <td>10001</td>\n",
       "      <td>1</td>\n",
       "      <td>1</td>\n",
       "      <td>0</td>\n",
       "      <td>0</td>\n",
       "      <td>4</td>\n",
       "      <td>4</td>\n",
       "      <td>0</td>\n",
       "      <td>...</td>\n",
       "      <td>11</td>\n",
       "      <td>Class 1: 6,000 lbs. or less (2,722 kg or less)</td>\n",
       "      <td>11</td>\n",
       "      <td>Class 1: 6,000 lbs. or less (2,722 kg or less)</td>\n",
       "      <td>77</td>\n",
       "      <td>No Trailing Units</td>\n",
       "      <td>77</td>\n",
       "      <td>No Trailing Units</td>\n",
       "      <td>77</td>\n",
       "      <td>No Trailing Units</td>\n",
       "    </tr>\n",
       "    <tr>\n",
       "      <th>3</th>\n",
       "      <td>1</td>\n",
       "      <td>Alabama</td>\n",
       "      <td>10001</td>\n",
       "      <td>1</td>\n",
       "      <td>1</td>\n",
       "      <td>0</td>\n",
       "      <td>0</td>\n",
       "      <td>4</td>\n",
       "      <td>4</td>\n",
       "      <td>0</td>\n",
       "      <td>...</td>\n",
       "      <td>11</td>\n",
       "      <td>Class 1: 6,000 lbs. or less (2,722 kg or less)</td>\n",
       "      <td>11</td>\n",
       "      <td>Class 1: 6,000 lbs. or less (2,722 kg or less)</td>\n",
       "      <td>77</td>\n",
       "      <td>No Trailing Units</td>\n",
       "      <td>77</td>\n",
       "      <td>No Trailing Units</td>\n",
       "      <td>77</td>\n",
       "      <td>No Trailing Units</td>\n",
       "    </tr>\n",
       "    <tr>\n",
       "      <th>4</th>\n",
       "      <td>1</td>\n",
       "      <td>Alabama</td>\n",
       "      <td>10002</td>\n",
       "      <td>4</td>\n",
       "      <td>4</td>\n",
       "      <td>0</td>\n",
       "      <td>0</td>\n",
       "      <td>6</td>\n",
       "      <td>6</td>\n",
       "      <td>0</td>\n",
       "      <td>...</td>\n",
       "      <td>11</td>\n",
       "      <td>Class 1: 6,000 lbs. or less (2,722 kg or less)</td>\n",
       "      <td>11</td>\n",
       "      <td>Class 1: 6,000 lbs. or less (2,722 kg or less)</td>\n",
       "      <td>77</td>\n",
       "      <td>No Trailing Units</td>\n",
       "      <td>77</td>\n",
       "      <td>No Trailing Units</td>\n",
       "      <td>77</td>\n",
       "      <td>No Trailing Units</td>\n",
       "    </tr>\n",
       "  </tbody>\n",
       "</table>\n",
       "<p>5 rows × 399 columns</p>\n",
       "</div>"
      ],
      "text/plain": [
       "   STATE_x STATENAME_x  ST_CASE  VE_TOTAL  VE_FORMS_x  PVH_INVL  PEDS  \\\n",
       "0        1     Alabama    10001         1           1         0     0   \n",
       "1        1     Alabama    10001         1           1         0     0   \n",
       "2        1     Alabama    10001         1           1         0     0   \n",
       "3        1     Alabama    10001         1           1         0     0   \n",
       "4        1     Alabama    10002         4           4         0     0   \n",
       "\n",
       "   PERSONS  PERMVIT  PERNOTMVIT  ...  GVWR_FROM  \\\n",
       "0        4        4           0  ...         11   \n",
       "1        4        4           0  ...         11   \n",
       "2        4        4           0  ...         11   \n",
       "3        4        4           0  ...         11   \n",
       "4        6        6           0  ...         11   \n",
       "\n",
       "                                    GVWR_FROMNAME  GVWR_TO  \\\n",
       "0  Class 1: 6,000 lbs. or less (2,722 kg or less)       11   \n",
       "1  Class 1: 6,000 lbs. or less (2,722 kg or less)       11   \n",
       "2  Class 1: 6,000 lbs. or less (2,722 kg or less)       11   \n",
       "3  Class 1: 6,000 lbs. or less (2,722 kg or less)       11   \n",
       "4  Class 1: 6,000 lbs. or less (2,722 kg or less)       11   \n",
       "\n",
       "                                      GVWR_TONAME  TRLR1GVWR  \\\n",
       "0  Class 1: 6,000 lbs. or less (2,722 kg or less)         77   \n",
       "1  Class 1: 6,000 lbs. or less (2,722 kg or less)         77   \n",
       "2  Class 1: 6,000 lbs. or less (2,722 kg or less)         77   \n",
       "3  Class 1: 6,000 lbs. or less (2,722 kg or less)         77   \n",
       "4  Class 1: 6,000 lbs. or less (2,722 kg or less)         77   \n",
       "\n",
       "       TRLR1GVWRNAME  TRLR2GVWR      TRLR2GVWRNAME  TRLR3GVWR  \\\n",
       "0  No Trailing Units         77  No Trailing Units         77   \n",
       "1  No Trailing Units         77  No Trailing Units         77   \n",
       "2  No Trailing Units         77  No Trailing Units         77   \n",
       "3  No Trailing Units         77  No Trailing Units         77   \n",
       "4  No Trailing Units         77  No Trailing Units         77   \n",
       "\n",
       "       TRLR3GVWRNAME  \n",
       "0  No Trailing Units  \n",
       "1  No Trailing Units  \n",
       "2  No Trailing Units  \n",
       "3  No Trailing Units  \n",
       "4  No Trailing Units  \n",
       "\n",
       "[5 rows x 399 columns]"
      ]
     },
     "execution_count": 19,
     "metadata": {},
     "output_type": "execute_result"
    }
   ],
   "source": [
    "years_list = [1975, 1980, 1985, 1990, 1995, 2000, 2005, 2010, 2015, 2020]\n",
    "df= pd.DataFrame()\n",
    "for i in years_list:\n",
    "    df1= pd.read_csv(f\"accident_all_years/{i}_accident.csv\", encoding = 'ISO-8859-1',low_memory=False)\n",
    "    df2= pd.read_csv(f\"person_all_years/{i}_PERSON.csv\", encoding = 'ISO-8859-1',low_memory=False)\n",
    "    df2.drop([\"HARM_EV\"],inplace=True,axis=1)\n",
    "    df3 = pd.read_csv(f\"vehicle_all_years/{i}_vehicle.csv\", encoding = 'ISO-8859-1',low_memory=False)\n",
    "    df3.drop([\"HARM_EV\"],inplace=True,axis=1)\n",
    "    df2 = pd.merge(df1, df2, on='ST_CASE',how=\"inner\").reset_index(drop=True)\n",
    "    df= pd.merge(df2, df3, on=\"ST_CASE\",how=\"inner\").reset_index(drop=True)\n",
    "    \n",
    "\n",
    "df.head()"
   ]
  },
  {
   "cell_type": "markdown",
   "id": "56a03310",
   "metadata": {},
   "source": [
    "## Task 3: "
   ]
  },
  {
   "cell_type": "code",
   "execution_count": 20,
   "id": "a1a81c7e",
   "metadata": {},
   "outputs": [],
   "source": [
    "\n",
    "df= df[df[\"STATENAME_x\"] != \"KANAS\"]\n",
    "df= df[[\"AGE\", \"FATALS\", \"HARM_EV\", \"VSPD_LIM\", \"HOURNAME\", \"HOUR\", \"YEAR\"]]\n",
    "df= df[df[\"HARM_EV\"]==8]\n",
    "ranges= [\"30 mph or less\", \"35 or 40 mph\", \"45 or 50 mph\", \"55 mph\", \"60 mph or higher\"]\n",
    "def ch_range(spd):\n",
    "    if spd <= 30:\n",
    "        return ranges[0]\n",
    "    elif spd >= 35 and spd <= 40:\n",
    "        return ranges[1]\n",
    "    elif spd >= 45 and spd <= 50:\n",
    "        return ranges[2]\n",
    "    elif spd >= 55 and spd <= 60:\n",
    "        return ranges[3]\n",
    "    elif spd >= 60:\n",
    "        return ranges[4]"
   ]
  },
  {
   "cell_type": "code",
   "execution_count": 21,
   "id": "398a534d",
   "metadata": {},
   "outputs": [
    {
     "data": {
      "text/plain": [
       "Text(0.5, 1.0, 'Fatal pedestrian crashes based on speed limit')"
      ]
     },
     "execution_count": 21,
     "metadata": {},
     "output_type": "execute_result"
    },
    {
     "data": {
      "image/png": "[encoded data removed]",
      "text/plain": [
       "<Figure size 864x648 with 1 Axes>"
      ]
     },
     "metadata": {
      "needs_background": "light"
     },
     "output_type": "display_data"
    }
   ],
   "source": [
    "df['spd_lim_range'] = df[\"VSPD_LIM\"].apply(ch_range)\n",
    "dp= []\n",
    "for i in ranges:\n",
    "    dp.append(len(df[df.spd_lim_range==i])/(df[\"FATALS\"].sum()*100))\n",
    "\n",
    "plt.figure(figsize=[12, 9])\n",
    "plt.bar(ranges, height=dp)\n",
    "plt.xticks(rotation=45)\n",
    "plt.xlabel(\"Speed\")\n",
    "plt.ylabel(\"Fatal crashes\")\n",
    "plt.title(\"Fatal pedestrian crashes based on speed limit\")"
   ]
  },
  {
   "cell_type": "markdown",
   "id": "02a0346a",
   "metadata": {},
   "source": [
    "#### Redrawing figure 4 & 9"
   ]
  },
  {
   "cell_type": "code",
   "execution_count": 22,
   "id": "1284181f",
   "metadata": {},
   "outputs": [],
   "source": [
    "ranges= [\"<16\", \"16-24\", \"25-34\", \"35-44\", \"45-54\", \"55-64\", \"65+\"]\n",
    "def ch_range(year):\n",
    "    if year < 16:\n",
    "        return ranges[0]\n",
    "    elif year >= 16 and year <= 24:\n",
    "        return ranges[1]\n",
    "    elif year >= 25 and year <= 34:\n",
    "        return ranges[2]\n",
    "    elif year >= 35 and year <= 44:\n",
    "        return ranges[3]\n",
    "    elif year >= 45 and year <= 54:\n",
    "        return ranges[4]\n",
    "    elif year >= 55 and year <= 64:\n",
    "        return ranges[5]\n",
    "    else:\n",
    "        return ranges[6]\n",
    "    "
   ]
  },
  {
   "cell_type": "code",
   "execution_count": 23,
   "id": "5422f990",
   "metadata": {},
   "outputs": [
    {
     "data": {
      "text/plain": [
       "Text(0.5, 1.0, '(FIGURE 4): Fatal pedestrian crashes based on age limit')"
      ]
     },
     "execution_count": 23,
     "metadata": {},
     "output_type": "execute_result"
    },
    {
     "data": {
      "image/png": "[encoded data removed]",
      "text/plain": [
       "<Figure size 864x648 with 1 Axes>"
      ]
     },
     "metadata": {
      "needs_background": "light"
     },
     "output_type": "display_data"
    }
   ],
   "source": [
    "df['ageRange'] = df[\"AGE\"].apply(ch_range)\n",
    "\n",
    "dp= []\n",
    "for i in ranges:\n",
    "    dp.append(len(df[df.ageRange==i])/(df[\"FATALS\"].sum()*100))\n",
    "\n",
    "plt.figure(figsize=[12, 9])\n",
    "plt.bar(ranges, height=dp)\n",
    "plt.xticks(rotation=90)\n",
    "plt.xlabel(\"Age\")\n",
    "plt.ylabel(\"Percentage of fatal crashes\")\n",
    "plt.title(\"(FIGURE 4): Fatal pedestrian crashes based on age limit\")"
   ]
  },
  {
   "cell_type": "code",
   "execution_count": 24,
   "id": "238fcebb",
   "metadata": {},
   "outputs": [],
   "source": [
    "ranges= ['Midnight to 5:59 am', '6 am to 8:59 am', '9 am to 2:59 pm', '3 pm to 5:59 pm', '6pm to 8:59 pm', '9 pm to 11:59 pm']\n",
    "\n",
    "def ch_range(hr):\n",
    "    \n",
    "    if hr >= 0 and hr < 6:\n",
    "        return ranges[0]\n",
    "    elif hr >= 6 and hr < 9:\n",
    "        return ranges[1]\n",
    "    elif hr >= 9 and hr < 15:\n",
    "        return ranges[2]\n",
    "    elif hr >= 15 and hr < 18:\n",
    "        return ranges[3]\n",
    "    elif hr >= 18 and hr < 21:\n",
    "        return ranges[4]\n",
    "    else:\n",
    "        return ranges[5]\n",
    "    \n"
   ]
  },
  {
   "cell_type": "code",
   "execution_count": 27,
   "id": "7943404d",
   "metadata": {},
   "outputs": [
    {
     "data": {
      "text/plain": [
       "Text(0.5, 1.0, '(FIGURE 9):crashes based on hour limit')"
      ]
     },
     "execution_count": 27,
     "metadata": {},
     "output_type": "execute_result"
    },
    {
     "data": {
      "image/png": "[encoded data removed]",
      "text/plain": [
       "<Figure size 864x648 with 1 Axes>"
      ]
     },
     "metadata": {
      "needs_background": "light"
     },
     "output_type": "display_data"
    }
   ],
   "source": [
    "df['hourRange'] = df[\"HOUR\"].apply(ch_range)\n",
    "dp= []\n",
    "\n",
    "for i in ranges:\n",
    "    dp.append(len(df[df.hourRange==i])/(df[\"FATALS\"].sum()*100))\n",
    "\n",
    "plt.figure(figsize=[12, 9])\n",
    "plt.bar(ranges, height=dp)\n",
    "plt.xticks(rotation=90)\n",
    "plt.xlabel(\"HOUR\")\n",
    "plt.ylabel(\"fatal crashes\")\n",
    "plt.title(\"(FIGURE 9):crashes based on hour limit\")"
   ]
  },
  {
   "cell_type": "code",
   "execution_count": 28,
   "id": "9772e558",
   "metadata": {},
   "outputs": [
    {
     "data": {
      "image/png": "[encoded data removed]",
      "text/plain": [
       "<Figure size 864x648 with 1 Axes>"
      ]
     },
     "metadata": {
      "needs_background": "light"
     },
     "output_type": "display_data"
    }
   ],
   "source": [
    "plt.figure(figsize=[12, 9])\n",
    "sns.countplot(x= \"hourRange\", hue=\"ageRange\",data=df)\n",
    "plt.xlabel(\"Hour\")\n",
    "plt.show()"
   ]
  },
  {
   "cell_type": "markdown",
   "id": "a86754c9",
   "metadata": {},
   "source": [
    "## Task 4:"
   ]
  },
  {
   "cell_type": "code",
   "execution_count": 45,
   "id": "8adc2b52",
   "metadata": {},
   "outputs": [],
   "source": [
    "\n",
    "all_df = pd.DataFrame()\n",
    "for i in years_list:\n",
    "    df = pd.read_csv(f\"accident_all_years/{i}_accident.csv\", encoding = 'ISO-8859-1')\n",
    "    all_df = pd.concat([all_df, df]).reset_index(drop=True)\n",
    "\n",
    "\n",
    "us_df = all_df[all_df[\"STATENAME\"]!=\"Kansas\"].loc[:, [\"STATE\",\"STATENAME\" ,'MONTH', 'DAY', 'HOUR', 'PERSONS', 'MAN_COLL', 'LGT_COND', 'WEATHER', \n",
    "                                'SCH_BUS', 'FATALS', 'DAY_WEEK', 'DRUNK_DR',\"HARM_EV\"]]\n",
    "\n",
    "\n",
    "\n",
    "\n",
    "us_df = us_df[us_df[\"HARM_EV\"]==8]\n",
    "us_df.drop(\"STATENAME\",inplace=True,axis=1)\n",
    "us_df.drop(\"HARM_EV\",inplace=True,axis=1)\n",
    "us_df.dropna(inplace=True)\n",
    "us_df=us_df.sample(n=5000)\n",
    "us_df.reset_index(drop=True, inplace=True)\n",
    "us_df=StandardScaler().fit_transform(us_df)"
   ]
  },
  {
   "cell_type": "markdown",
   "id": "2be8cb94",
   "metadata": {},
   "source": [
    "## Task 5:"
   ]
  },
  {
   "cell_type": "code",
   "execution_count": 46,
   "id": "0fa284c3",
   "metadata": {},
   "outputs": [
    {
     "name": "stdout",
     "output_type": "stream",
     "text": [
      "Centroids for the 5 clusters:\n",
      "[[ 3.02348084e-02 -1.53044583e-02 -3.79641776e-02  1.00531472e-02\n",
      "   5.24477153e-02 -1.41435500e-02  1.70041910e-02 -1.08965659e-01\n",
      "   1.54273942e-02 -1.18445747e-01  8.68655610e-01  1.04917149e-01]\n",
      " [-3.78266449e-02  1.19908453e-02  4.09268337e-02 -2.80650162e-02\n",
      "  -8.51801548e-02 -1.41435500e-02 -4.49819407e-02 -9.95109696e-02\n",
      "  -2.28112845e-02 -1.18445747e-01 -8.72386704e-01 -1.22487921e-01]\n",
      " [-1.92310220e-01  1.43573414e+00  1.19732048e+00 -1.46251048e-01\n",
      "  -1.20152556e-01  7.07036067e+01  6.55486991e+00  6.09734527e-01\n",
      "  -7.36839081e-02 -1.18445747e-01 -5.78481828e-01 -4.14616161e-01]\n",
      " [ 2.22074013e-01  1.31084770e-01 -1.54429777e-01  7.15089299e-01\n",
      "  -6.98948030e-01 -1.41435500e-02  1.20543005e+00  9.22795502e+00\n",
      "   1.69979809e-01 -1.18445747e-01 -2.31137085e-01 -2.35994689e-01]\n",
      " [ 6.32203270e-02 -2.86657136e-03  2.10836154e-02  4.07593498e-02\n",
      "   1.47328144e+00 -1.41435500e-02 -9.02888079e-02 -1.28985686e-01\n",
      "   9.90397396e-02  7.37812050e+00 -1.10665618e-01  6.61634733e-01]] \n",
      "\n",
      "Centroids for the 10 clusters:\n",
      "[[ 8.38447164e-01 -1.70834087e-01  9.21034596e-01 -2.19165052e-01\n",
      "  -2.05458933e-02 -1.41435500e-02 -4.63044762e-01 -9.92772990e-02\n",
      "  -7.36839081e-02 -1.18445747e-01 -2.09717493e-01 -4.11639136e-01]\n",
      " [-8.80339879e-01  7.33152297e-01 -2.86002409e-01 -2.34637247e-01\n",
      "  -7.53996019e-02 -1.41435500e-02 -3.88554810e-01 -1.14077046e-01\n",
      "  -7.36839081e-02 -1.18445747e-01 -4.17708522e-01 -4.14616161e-01]\n",
      " [-6.69832940e-01 -1.15979389e+00 -1.36590684e-01 -5.26558514e-02\n",
      "  -5.14784426e-02 -1.41435500e-02 -1.02279293e-02 -9.58480181e-02\n",
      "  -7.36839081e-02 -1.18445747e-01  1.30900114e-01 -4.14616161e-01]\n",
      " [-1.92310220e-01  1.43573414e+00  1.19732048e+00 -1.46251048e-01\n",
      "  -1.20152556e-01  7.07036067e+01  6.55486991e+00  6.09734527e-01\n",
      "  -7.36839081e-02 -1.18445747e-01 -5.78481828e-01 -4.14616161e-01]\n",
      " [ 2.42185788e-01  1.27722037e-01 -1.89308907e-01  7.43202381e-01\n",
      "  -7.09471584e-01 -1.41435500e-02  1.23076209e+00  9.22830009e+00\n",
      "  -7.36839081e-02 -1.18445747e-01 -2.24821726e-01 -2.32747026e-01]\n",
      " [ 5.22525915e-02 -3.06019977e-01  3.49516148e-01 -3.31059705e-01\n",
      "   8.01134296e-01 -1.41435500e-02 -1.07972426e+00  2.23251767e-01\n",
      "   1.35714843e+01 -1.18445747e-01 -1.46230593e-01 -3.21997620e-01]\n",
      " [-3.39252999e-03 -6.48895875e-02  1.28162288e-02 -8.50350172e-02\n",
      "   2.69979603e-01 -1.41435500e-02  1.50604374e-01 -1.26671814e-01\n",
      "  -7.36839081e-02 -1.18445747e-01  1.19399474e-01  2.22801610e+00]\n",
      " [-2.85071932e-01  6.66729862e-01  5.65208080e-01  7.81415936e-01\n",
      "  -1.34718356e-01 -1.41435500e-02  1.03910053e+00 -8.68368573e-02\n",
      "  -7.36839081e-02 -1.18445747e-01  3.57279451e-01 -3.82401016e-01]\n",
      " [ 8.45584768e-02 -2.43570902e-04  5.24894116e-03  3.16396374e-02\n",
      "   8.19625295e-01 -1.41435500e-02 -8.77552075e-02 -1.28096198e-01\n",
      "  -7.36839081e-02  7.57283651e+00 -1.11145265e-01  6.57112671e-01]\n",
      " [ 9.65026481e-01  2.52742051e-01 -8.89465085e-01 -2.60608030e-02\n",
      "  -3.75705815e-02 -1.41435500e-02 -7.33209939e-02 -1.01294654e-01\n",
      "  -7.36839081e-02 -1.18445747e-01  1.50942131e-01 -4.14616161e-01]] \n",
      "\n",
      "Centroids for the 12 clusters:\n",
      "[[-5.92758487e-01  6.10205367e-01  9.36654766e-01 -2.56316579e-02\n",
      "  -5.78170475e-02 -1.41435500e-02 -1.22880909e-01 -1.04717701e-01\n",
      "  -7.36839081e-02 -1.18445747e-01  5.17200811e-01 -4.14616161e-01]\n",
      " [ 6.38323555e-01  6.73566093e-01 -7.56838724e-01 -2.80783865e-03\n",
      "   9.52132014e-02 -1.41435500e-02 -1.84333960e-01 -1.09071939e-01\n",
      "  -7.36839081e-02 -1.18445747e-01  5.70699422e-01 -4.14616161e-01]\n",
      " [-2.83832611e-02  1.25686221e-01 -4.92037092e-02  1.89468879e+00\n",
      "  -2.60858184e-01 -1.41435500e-02  2.56704310e+00 -9.17316832e-02\n",
      "  -7.36839081e-02 -1.18445747e-01 -1.24618031e-01 -2.31231449e-01]\n",
      " [-3.05642784e-01 -1.21904701e+00 -2.92457589e-01 -8.06242570e-03\n",
      "  -3.39035758e-02 -1.41435500e-02 -1.67677792e-02 -9.73584853e-02\n",
      "  -7.36839081e-02 -1.18445747e-01  4.59578014e-01 -4.14616161e-01]\n",
      " [-7.96616402e-01  3.44856655e-01 -5.27099249e-01 -1.57704800e-01\n",
      "  -1.64805259e-01 -1.41435500e-02 -1.06316778e-01 -1.03132652e-01\n",
      "  -7.36839081e-02 -1.18445747e-01 -1.01675349e+00 -4.14616161e-01]\n",
      " [-1.92310220e-01  1.43573414e+00  1.19732048e+00 -1.46251048e-01\n",
      "  -1.20152556e-01  7.07036067e+01  6.55486991e+00  6.09734527e-01\n",
      "  -7.36839081e-02 -1.18445747e-01 -5.78481828e-01 -4.14616161e-01]\n",
      " [-7.58298440e-01 -1.03852089e-01  6.30718574e-01  3.91868276e-01\n",
      "   2.66390428e+01 -1.41435500e-02 -1.87832422e-01 -1.63230994e-01\n",
      "   6.74890018e+00 -1.18445747e-01 -9.21991884e-02  8.35734143e-01]\n",
      " [ 1.02777656e-01 -3.51477846e-01  3.21266765e-01 -3.45693875e-01\n",
      "  -3.31779233e-02 -1.41435500e-02 -1.07697998e+00  2.38116488e-01\n",
      "   1.35714843e+01 -1.18445747e-01 -1.10902367e-01 -3.18435368e-01]\n",
      " [-6.55656498e-03 -6.36724114e-02  1.03087627e-02 -8.72808912e-02\n",
      "   2.33662617e-01 -1.41435500e-02  1.39801316e-01 -1.26423112e-01\n",
      "  -7.36839081e-02 -1.18445747e-01  1.26793402e-01  2.22898162e+00]\n",
      " [ 8.45584768e-02 -2.43570902e-04  5.24894116e-03  3.16396374e-02\n",
      "   8.19625295e-01 -1.41435500e-02 -8.77552075e-02 -1.28096198e-01\n",
      "  -7.36839081e-02  7.57283651e+00 -1.11145265e-01  6.57112671e-01]\n",
      " [ 9.42279937e-01 -2.88235784e-01  6.38568222e-01 -1.43540120e-01\n",
      "  -1.22051247e-01 -1.41435500e-02 -2.37571680e-01 -8.85142386e-02\n",
      "  -7.36839081e-02 -1.18445747e-01 -7.46292210e-01 -4.08317167e-01]\n",
      " [ 2.42185788e-01  1.27722037e-01 -1.89308907e-01  7.43202381e-01\n",
      "  -7.09471584e-01 -1.41435500e-02  1.23076209e+00  9.22830009e+00\n",
      "  -7.36839081e-02 -1.18445747e-01 -2.24821726e-01 -2.32747026e-01]] \n",
      "\n"
     ]
    }
   ],
   "source": [
    "k_vals = [5,10,12]\n",
    "for k in k_vals:\n",
    "    model= KMeans(n_clusters= k, init='k-means++')\n",
    "    model.fit(us_df)\n",
    "    print(f\"Centroids for the {k} clusters:\")\n",
    "    print(model.cluster_centers_, '\\n')"
   ]
  },
  {
   "cell_type": "markdown",
   "id": "2dc69dc0",
   "metadata": {},
   "source": [
    "## Task 6:"
   ]
  },
  {
   "cell_type": "code",
   "execution_count": 47,
   "id": "91fc584d",
   "metadata": {},
   "outputs": [
    {
     "data": {
      "image/png": "[encoded data removed]",
      "text/plain": [
       "<Figure size 432x288 with 1 Axes>"
      ]
     },
     "metadata": {
      "needs_background": "light"
     },
     "output_type": "display_data"
    }
   ],
   "source": [
    "css = []\n",
    "for c in range(1, 15):\n",
    "    model= KMeans(n_clusters= c, init= 'k-means++', max_iter= 200, n_init= 10, random_state=1)\n",
    "    model.fit(us_df)\n",
    "    css.append(model.inertia_)\n",
    "    \n",
    "\n",
    "plt.plot(css, color= 'blue')\n",
    "plt.xlabel(\"Number of Clusters\")\n",
    "plt.ylabel(\"inertia\")\n",
    "plt.title(\"ELBOW method for Kmeans clustering\")\n",
    "plt.show()"
   ]
  },
  {
   "cell_type": "markdown",
   "id": "069ea2c1",
   "metadata": {},
   "source": [
    "##### **The optimal value of k is 5**"
   ]
  },
  {
   "cell_type": "code",
   "execution_count": 48,
   "id": "bc8652bd",
   "metadata": {},
   "outputs": [
    {
     "name": "stdout",
     "output_type": "stream",
     "text": [
      "Centroids of 5 clusters:\n"
     ]
    },
    {
     "data": {
      "text/plain": [
       "array([[-7.92833315e-01,  6.93221828e-01, -5.07286942e-01,\n",
       "        -1.08441740e-01, -2.32580782e-01, -1.41435500e-02,\n",
       "        -9.15081030e-02, -1.05586108e-01, -7.36839081e-02,\n",
       "        -1.18445747e-01, -9.46078535e-01, -4.10377685e-01],\n",
       "       [ 9.12113469e-01, -1.09856803e+00, -1.20644819e-01,\n",
       "         6.07156975e-03, -2.32337228e-01, -1.41435500e-02,\n",
       "        -1.00850596e-01, -7.67894066e-02, -7.36839081e-02,\n",
       "        -1.18445747e-01,  3.81072544e-01, -4.14616161e-01],\n",
       "       [-3.91432935e-03, -7.63347321e-02,  2.72812004e-03,\n",
       "        -8.88202860e-02,  1.57050894e-01, -1.41435500e-02,\n",
       "         1.07816478e-01, -1.25512026e-01, -7.36839081e-02,\n",
       "        -1.18445747e-01,  1.27212639e-01,  2.23464092e+00],\n",
       "       [ 8.45584768e-02, -2.43570902e-04,  5.24894116e-03,\n",
       "         3.16396374e-02,  8.19625295e-01, -1.41435500e-02,\n",
       "        -8.77552075e-02, -1.28096198e-01, -7.36839081e-02,\n",
       "         7.57283651e+00, -1.11145265e-01,  6.57112671e-01],\n",
       "       [ 6.62295806e-01,  7.78803382e-01, -8.45794875e-01,\n",
       "        -4.84111713e-02, -1.41253711e-01, -1.41435500e-02,\n",
       "        -2.01314831e-01, -1.10037021e-01, -7.36839081e-02,\n",
       "        -1.18445747e-01,  4.95423845e-01, -4.14616161e-01],\n",
       "       [-1.92310220e-01,  1.43573414e+00,  1.19732048e+00,\n",
       "        -1.46251048e-01, -1.20152556e-01,  7.07036067e+01,\n",
       "         6.55486991e+00,  6.09734527e-01, -7.36839081e-02,\n",
       "        -1.18445747e-01, -5.78481828e-01, -4.14616161e-01],\n",
       "       [-5.17923925e-01,  6.44019205e-01,  8.48484847e-01,\n",
       "        -3.10239642e-02, -1.43991989e-01, -1.41435500e-02,\n",
       "        -1.00792375e-01, -9.89142092e-02, -7.36839081e-02,\n",
       "        -1.18445747e-01,  7.66118964e-01, -4.14616161e-01],\n",
       "       [ 7.81605966e-01,  1.14283266e-01,  8.19080544e-01,\n",
       "        -1.54431640e-01, -1.03766031e-01, -1.41435500e-02,\n",
       "        -3.03808191e-01, -9.74707583e-02, -7.36839081e-02,\n",
       "        -1.18445747e-01, -9.72061756e-01, -4.02070840e-01],\n",
       "       [ 5.22525915e-02, -3.06019977e-01,  3.49516148e-01,\n",
       "        -3.31059705e-01,  8.01134296e-01, -1.41435500e-02,\n",
       "        -1.07972426e+00,  2.23251767e-01,  1.35714843e+01,\n",
       "        -1.18445747e-01, -1.46230593e-01, -3.21997620e-01],\n",
       "       [-9.49785473e-01, -1.13052227e+00, -1.82202479e-01,\n",
       "        -4.91435057e-02, -1.08868422e-01, -1.41435500e-02,\n",
       "        -1.58992806e-01, -1.09134979e-01, -7.36839081e-02,\n",
       "        -1.18445747e-01, -4.75217525e-04, -4.14616161e-01],\n",
       "       [ 2.42185788e-01,  1.27722037e-01, -1.89308907e-01,\n",
       "         7.43202381e-01, -7.09471584e-01, -1.41435500e-02,\n",
       "         1.23076209e+00,  9.22830009e+00, -7.36839081e-02,\n",
       "        -1.18445747e-01, -2.24821726e-01, -2.32747026e-01],\n",
       "       [ 8.71388385e-04,  1.86967955e-01, -1.24524441e-01,\n",
       "         1.02742651e-01,  2.92656363e+00, -1.41435500e-02,\n",
       "        -3.20984931e-02, -1.23309870e-01, -7.36839081e-02,\n",
       "        -1.18445747e-01,  2.36842358e-01, -1.45079568e-01],\n",
       "       [ 5.08550897e-02, -3.85363098e-02,  1.43440938e-01,\n",
       "         8.26797839e+00, -4.21664617e-01, -1.41435500e-02,\n",
       "         4.54329705e-01, -9.88172005e-02, -7.36839081e-02,\n",
       "        -1.18445747e-01, -5.46062985e-01, -8.11894130e-02],\n",
       "       [-7.15660661e-02,  1.72073754e-01, -1.29411874e-02,\n",
       "         3.58373493e-03, -2.01991544e-01, -1.41435500e-02,\n",
       "         2.71840989e+00, -9.25598606e-02, -7.36839081e-02,\n",
       "        -1.18445747e-01, -1.71727241e-02, -1.85980677e-01]])"
      ]
     },
     "execution_count": 48,
     "metadata": {},
     "output_type": "execute_result"
    }
   ],
   "source": [
    "kmeans= KMeans(n_clusters= 5, init='k-means++').fit(us_df)\n",
    "\n",
    "print(f\"Centroids of {5} clusters:\")\n",
    "model.cluster_centers_"
   ]
  },
  {
   "cell_type": "markdown",
   "id": "90b5a335",
   "metadata": {},
   "source": [
    "## Task 7:"
   ]
  },
  {
   "cell_type": "code",
   "execution_count": 50,
   "id": "0fd0ff48",
   "metadata": {},
   "outputs": [],
   "source": [
    "kansas_df = all_df[all_df[\"STATENAME\"]==\"Kansas\"].loc[:, [\"STATE\",\"STATENAME\" ,'MONTH', 'DAY', 'HOUR', 'PERSONS', 'MAN_COLL', 'LGT_COND', 'WEATHER', \n",
    "                                'SCH_BUS', 'FATALS', 'DAY_WEEK', 'DRUNK_DR',\"HARM_EV\"]]\n",
    "\n",
    "kansas_df = kansas_df[kansas_df[\"HARM_EV\"]==8] \n",
    "kansas_df.drop(\"STATENAME\",inplace=True,axis=1)\n",
    "kansas_df.drop(\"HARM_EV\",inplace=True,axis=1)\n",
    "kansas_df.dropna(inplace=True)\n",
    "kansas_df.reset_index(drop=True, inplace=True)\n",
    "kansas_df=StandardScaler().fit_transform(kansas_df)\n",
    "\n"
   ]
  },
  {
   "cell_type": "code",
   "execution_count": 53,
   "id": "5041e1e7",
   "metadata": {},
   "outputs": [
    {
     "name": "stderr",
     "output_type": "stream",
     "text": [
      "c:\\users\\acer\\appdata\\local\\programs\\python\\python38\\lib\\site-packages\\seaborn\\_decorators.py:36: FutureWarning: Pass the following variables as keyword args: x, y. From version 0.12, the only valid positional argument will be `data`, and passing other arguments without an explicit keyword will result in an error or misinterpretation.\n",
      "  warnings.warn(\n"
     ]
    },
    {
     "data": {
      "image/png": "[encoded data removed]",
      "text/plain": [
       "<Figure size 432x288 with 1 Axes>"
      ]
     },
     "metadata": {
      "needs_background": "light"
     },
     "output_type": "display_data"
    },
    {
     "name": "stderr",
     "output_type": "stream",
     "text": [
      "c:\\users\\acer\\appdata\\local\\programs\\python\\python38\\lib\\site-packages\\seaborn\\_decorators.py:36: FutureWarning: Pass the following variables as keyword args: x, y. From version 0.12, the only valid positional argument will be `data`, and passing other arguments without an explicit keyword will result in an error or misinterpretation.\n",
      "  warnings.warn(\n"
     ]
    },
    {
     "data": {
      "text/plain": [
       "<AxesSubplot: >"
      ]
     },
     "execution_count": 53,
     "metadata": {},
     "output_type": "execute_result"
    },
    {
     "data": {
      "image/png": "[encoded data removed]",
      "text/plain": [
       "<Figure size 432x288 with 1 Axes>"
      ]
     },
     "metadata": {
      "needs_background": "light"
     },
     "output_type": "display_data"
    }
   ],
   "source": [
    "label= kmeans.predict(kansas_df)\n",
    "x=[]\n",
    "y=[]\n",
    "for i in range(len(kansas_df)):\n",
    "    y.append(kansas_df[i][9])\n",
    "    x.append(kansas_df[i][0])\n",
    "\n",
    "sns.scatterplot(x,y,hue=label)\n",
    "plt.show()\n",
    "label= kmeans.predict(us_df)\n",
    "x=[]\n",
    "y=[]\n",
    "for i in range(len(us_df)):\n",
    "    y.append(us_df[i][9])\n",
    "    x.append(us_df[i][0])\n",
    "\n",
    "sns.scatterplot(x,y,hue=label)"
   ]
  },
  {
   "cell_type": "markdown",
   "id": "625e62f7",
   "metadata": {},
   "source": [
    "##### **Kansas fits well in 1 and 2**"
   ]
  },
  {
   "cell_type": "markdown",
   "id": "a010f8c7",
   "metadata": {},
   "source": [
    "## Task 8:"
   ]
  },
  {
   "cell_type": "code",
   "execution_count": 65,
   "id": "af91c9e3",
   "metadata": {},
   "outputs": [],
   "source": [
    "agg = AgglomerativeClustering(n_clusters=5, compute_full_tree=True, compute_distances=True).fit(us_df)"
   ]
  },
  {
   "cell_type": "code",
   "execution_count": 67,
   "id": "9cdb5c5b",
   "metadata": {},
   "outputs": [
    {
     "data": {
      "image/png": "[encoded data removed]",
      "text/plain": [
       "<Figure size 432x288 with 1 Axes>"
      ]
     },
     "metadata": {
      "needs_background": "light"
     },
     "output_type": "display_data"
    }
   ],
   "source": [
    "\n",
    "def plot_dendrogram(model, **kwargs):\n",
    "    # Create linkage matrix and then plot the dendrogram\n",
    "\n",
    "    # create the counts of samples under each node\n",
    "    counts = np.zeros(model.children_.shape[0])\n",
    "    n_samples = len(model.labels_)\n",
    "    for i, merge in enumerate(model.children_):\n",
    "        current_count = 0\n",
    "        for child_idx in merge:\n",
    "            if child_idx < n_samples:\n",
    "                current_count += 1  # leaf node\n",
    "            else:\n",
    "                current_count += counts[child_idx - n_samples]\n",
    "        counts[i] = current_count\n",
    "\n",
    "    linkage_matrix = np.column_stack(\n",
    "        [model.children_, model.distances_, counts]\n",
    "    ).astype(float)\n",
    "\n",
    "    # Plot the corresponding dendrogram\n",
    "    dendrogram(linkage_matrix, **kwargs)\n",
    "    \n",
    "plot_dendrogram(agg, truncate_mode=\"level\", p=4)"
   ]
  },
  {
   "cell_type": "code",
   "execution_count": null,
   "id": "c215bb4f",
   "metadata": {},
   "outputs": [],
   "source": []
  },
  {
   "cell_type": "code",
   "execution_count": null,
   "id": "96d5aaaf",
   "metadata": {},
   "outputs": [],
   "source": []
  },
  {
   "cell_type": "code",
   "execution_count": null,
   "id": "514be971",
   "metadata": {},
   "outputs": [],
   "source": []
  }
 ],
 "metadata": {
  "kernelspec": {
   "display_name": "Python 3 (ipykernel)",
   "language": "python",
   "name": "python3"
  },
  "language_info": {
   "codemirror_mode": {
    "name": "ipython",
    "version": 3
   },
   "file_extension": ".py",
   "mimetype": "text/x-python",
   "name": "python",
   "nbconvert_exporter": "python",
   "pygments_lexer": "ipython3",
   "version": "3.8.10"
  }
 },
 "nbformat": 4,
 "nbformat_minor": 5
}
